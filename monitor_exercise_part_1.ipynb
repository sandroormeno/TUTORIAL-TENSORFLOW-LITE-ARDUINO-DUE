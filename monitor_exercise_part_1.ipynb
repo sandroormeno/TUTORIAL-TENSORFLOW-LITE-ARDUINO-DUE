{
  "nbformat": 4,
  "nbformat_minor": 0,
  "metadata": {
    "colab": {
      "name": "monitor exercice -  part 1.ipynb",
      "provenance": [],
      "collapsed_sections": [],
      "include_colab_link": true
    },
    "kernelspec": {
      "name": "python3",
      "display_name": "Python 3"
    },
    "accelerator": "GPU"
  },
  "cells": [
    {
      "cell_type": "markdown",
      "metadata": {
        "id": "view-in-github",
        "colab_type": "text"
      },
      "source": [
        "<a href=\"https://colab.research.google.com/github/sandroormeno/TUTORIAL-TENSORFLOW-LITE-ARDUINO-DUE/blob/master/monitor_exercice_part_1.ipynb\" target=\"_parent\"><img src=\"https://colab.research.google.com/assets/colab-badge.svg\" alt=\"Open In Colab\"/></a>"
      ]
    },
    {
      "cell_type": "code",
      "metadata": {
        "id": "StTd6ulzdqOe",
        "colab_type": "code",
        "outputId": "5836f4f7-fba3-48b4-878e-cc51e938c854",
        "colab": {
          "base_uri": "https://localhost:8080/",
          "height": 34
        }
      },
      "source": [
        "%tensorflow_version 2.x"
      ],
      "execution_count": 0,
      "outputs": [
        {
          "output_type": "stream",
          "text": [
            "TensorFlow 2.x selected.\n"
          ],
          "name": "stdout"
        }
      ]
    },
    {
      "cell_type": "code",
      "metadata": {
        "id": "C1Csd06VbTzZ",
        "colab_type": "code",
        "outputId": "9fc99cdd-a59e-4b0c-dfb2-99e6bcae8af5",
        "colab": {
          "base_uri": "https://localhost:8080/",
          "height": 34
        }
      },
      "source": [
        "import pandas\n",
        "import numpy as np\n",
        "import tensorflow as tf\n",
        "from tensorflow.keras import layers\n",
        "from keras.utils import to_categorical\n",
        "from sklearn.model_selection import train_test_split"
      ],
      "execution_count": 0,
      "outputs": [
        {
          "output_type": "stream",
          "text": [
            "Using TensorFlow backend.\n"
          ],
          "name": "stderr"
        }
      ]
    },
    {
      "cell_type": "code",
      "metadata": {
        "id": "kJsZaKO6eK_2",
        "colab_type": "code",
        "colab": {}
      },
      "source": [
        "print(tf.__version__)"
      ],
      "execution_count": 0,
      "outputs": []
    },
    {
      "cell_type": "code",
      "metadata": {
        "id": "y660XZR8evxN",
        "colab_type": "code",
        "colab": {}
      },
      "source": [
        "# Los datos\n",
        "url  = 'https://raw.githubusercontent.com/sandroormeno/Neural-network-con-arduino-ATmega644/master/jupyter%20notebook/datos_aceler%C3%B3metro.csv'"
      ],
      "execution_count": 0,
      "outputs": []
    },
    {
      "cell_type": "code",
      "metadata": {
        "id": "Gjk6U5LpfBga",
        "colab_type": "code",
        "outputId": "b5d12ce7-8e58-4565-aba9-6e3bf7a08ee4",
        "colab": {
          "base_uri": "https://localhost:8080/",
          "height": 204
        }
      },
      "source": [
        "datos = pandas.read_csv(url)\n",
        "# Cinco muestras de la calse 0\n",
        "datos[0:5]"
      ],
      "execution_count": 0,
      "outputs": [
        {
          "output_type": "execute_result",
          "data": {
            "text/html": [
              "<div>\n",
              "<style scoped>\n",
              "    .dataframe tbody tr th:only-of-type {\n",
              "        vertical-align: middle;\n",
              "    }\n",
              "\n",
              "    .dataframe tbody tr th {\n",
              "        vertical-align: top;\n",
              "    }\n",
              "\n",
              "    .dataframe thead th {\n",
              "        text-align: right;\n",
              "    }\n",
              "</style>\n",
              "<table border=\"1\" class=\"dataframe\">\n",
              "  <thead>\n",
              "    <tr style=\"text-align: right;\">\n",
              "      <th></th>\n",
              "      <th>x1</th>\n",
              "      <th>y1</th>\n",
              "      <th>z1</th>\n",
              "      <th>x2</th>\n",
              "      <th>y2</th>\n",
              "      <th>z2</th>\n",
              "      <th>x3</th>\n",
              "      <th>y3</th>\n",
              "      <th>z3</th>\n",
              "      <th>x4</th>\n",
              "      <th>y4</th>\n",
              "      <th>z4</th>\n",
              "      <th>x5</th>\n",
              "      <th>y5</th>\n",
              "      <th>z5</th>\n",
              "      <th>clase</th>\n",
              "    </tr>\n",
              "  </thead>\n",
              "  <tbody>\n",
              "    <tr>\n",
              "      <th>0</th>\n",
              "      <td>141</td>\n",
              "      <td>127</td>\n",
              "      <td>132</td>\n",
              "      <td>133</td>\n",
              "      <td>120</td>\n",
              "      <td>147</td>\n",
              "      <td>170</td>\n",
              "      <td>114</td>\n",
              "      <td>120</td>\n",
              "      <td>132</td>\n",
              "      <td>120</td>\n",
              "      <td>129</td>\n",
              "      <td>143</td>\n",
              "      <td>123</td>\n",
              "      <td>142</td>\n",
              "      <td>0</td>\n",
              "    </tr>\n",
              "    <tr>\n",
              "      <th>1</th>\n",
              "      <td>159</td>\n",
              "      <td>122</td>\n",
              "      <td>132</td>\n",
              "      <td>135</td>\n",
              "      <td>120</td>\n",
              "      <td>130</td>\n",
              "      <td>146</td>\n",
              "      <td>129</td>\n",
              "      <td>140</td>\n",
              "      <td>159</td>\n",
              "      <td>116</td>\n",
              "      <td>134</td>\n",
              "      <td>132</td>\n",
              "      <td>122</td>\n",
              "      <td>126</td>\n",
              "      <td>0</td>\n",
              "    </tr>\n",
              "    <tr>\n",
              "      <th>2</th>\n",
              "      <td>148</td>\n",
              "      <td>124</td>\n",
              "      <td>144</td>\n",
              "      <td>159</td>\n",
              "      <td>125</td>\n",
              "      <td>136</td>\n",
              "      <td>135</td>\n",
              "      <td>123</td>\n",
              "      <td>126</td>\n",
              "      <td>149</td>\n",
              "      <td>125</td>\n",
              "      <td>139</td>\n",
              "      <td>155</td>\n",
              "      <td>121</td>\n",
              "      <td>137</td>\n",
              "      <td>0</td>\n",
              "    </tr>\n",
              "    <tr>\n",
              "      <th>3</th>\n",
              "      <td>133</td>\n",
              "      <td>124</td>\n",
              "      <td>128</td>\n",
              "      <td>149</td>\n",
              "      <td>123</td>\n",
              "      <td>144</td>\n",
              "      <td>156</td>\n",
              "      <td>124</td>\n",
              "      <td>137</td>\n",
              "      <td>134</td>\n",
              "      <td>123</td>\n",
              "      <td>126</td>\n",
              "      <td>147</td>\n",
              "      <td>125</td>\n",
              "      <td>140</td>\n",
              "      <td>0</td>\n",
              "    </tr>\n",
              "    <tr>\n",
              "      <th>4</th>\n",
              "      <td>161</td>\n",
              "      <td>118</td>\n",
              "      <td>131</td>\n",
              "      <td>133</td>\n",
              "      <td>120</td>\n",
              "      <td>127</td>\n",
              "      <td>148</td>\n",
              "      <td>122</td>\n",
              "      <td>144</td>\n",
              "      <td>162</td>\n",
              "      <td>124</td>\n",
              "      <td>131</td>\n",
              "      <td>134</td>\n",
              "      <td>125</td>\n",
              "      <td>125</td>\n",
              "      <td>0</td>\n",
              "    </tr>\n",
              "  </tbody>\n",
              "</table>\n",
              "</div>"
            ],
            "text/plain": [
              "    x1   y1   z1   x2   y2   z2   x3  ...   x4   y4   z4   x5   y5   z5  clase\n",
              "0  141  127  132  133  120  147  170  ...  132  120  129  143  123  142      0\n",
              "1  159  122  132  135  120  130  146  ...  159  116  134  132  122  126      0\n",
              "2  148  124  144  159  125  136  135  ...  149  125  139  155  121  137      0\n",
              "3  133  124  128  149  123  144  156  ...  134  123  126  147  125  140      0\n",
              "4  161  118  131  133  120  127  148  ...  162  124  131  134  125  125      0\n",
              "\n",
              "[5 rows x 16 columns]"
            ]
          },
          "metadata": {
            "tags": []
          },
          "execution_count": 6
        }
      ]
    },
    {
      "cell_type": "code",
      "metadata": {
        "id": "t5u1N7q0Fri4",
        "colab_type": "code",
        "outputId": "07d299d1-6970-4d3b-d414-051e4488f946",
        "colab": {
          "base_uri": "https://localhost:8080/",
          "height": 204
        }
      },
      "source": [
        "# Cinco muestras de la calse 1\n",
        "datos[250:255]"
      ],
      "execution_count": 0,
      "outputs": [
        {
          "output_type": "execute_result",
          "data": {
            "text/html": [
              "<div>\n",
              "<style scoped>\n",
              "    .dataframe tbody tr th:only-of-type {\n",
              "        vertical-align: middle;\n",
              "    }\n",
              "\n",
              "    .dataframe tbody tr th {\n",
              "        vertical-align: top;\n",
              "    }\n",
              "\n",
              "    .dataframe thead th {\n",
              "        text-align: right;\n",
              "    }\n",
              "</style>\n",
              "<table border=\"1\" class=\"dataframe\">\n",
              "  <thead>\n",
              "    <tr style=\"text-align: right;\">\n",
              "      <th></th>\n",
              "      <th>x1</th>\n",
              "      <th>y1</th>\n",
              "      <th>z1</th>\n",
              "      <th>x2</th>\n",
              "      <th>y2</th>\n",
              "      <th>z2</th>\n",
              "      <th>x3</th>\n",
              "      <th>y3</th>\n",
              "      <th>z3</th>\n",
              "      <th>x4</th>\n",
              "      <th>y4</th>\n",
              "      <th>z4</th>\n",
              "      <th>x5</th>\n",
              "      <th>y5</th>\n",
              "      <th>z5</th>\n",
              "      <th>clase</th>\n",
              "    </tr>\n",
              "  </thead>\n",
              "  <tbody>\n",
              "    <tr>\n",
              "      <th>250</th>\n",
              "      <td>133</td>\n",
              "      <td>126</td>\n",
              "      <td>122</td>\n",
              "      <td>134</td>\n",
              "      <td>124</td>\n",
              "      <td>122</td>\n",
              "      <td>141</td>\n",
              "      <td>123</td>\n",
              "      <td>120</td>\n",
              "      <td>154</td>\n",
              "      <td>121</td>\n",
              "      <td>116</td>\n",
              "      <td>166</td>\n",
              "      <td>119</td>\n",
              "      <td>107</td>\n",
              "      <td>1</td>\n",
              "    </tr>\n",
              "    <tr>\n",
              "      <th>251</th>\n",
              "      <td>160</td>\n",
              "      <td>121</td>\n",
              "      <td>112</td>\n",
              "      <td>147</td>\n",
              "      <td>123</td>\n",
              "      <td>117</td>\n",
              "      <td>136</td>\n",
              "      <td>124</td>\n",
              "      <td>121</td>\n",
              "      <td>136</td>\n",
              "      <td>123</td>\n",
              "      <td>122</td>\n",
              "      <td>139</td>\n",
              "      <td>123</td>\n",
              "      <td>122</td>\n",
              "      <td>1</td>\n",
              "    </tr>\n",
              "    <tr>\n",
              "      <th>252</th>\n",
              "      <td>149</td>\n",
              "      <td>121</td>\n",
              "      <td>116</td>\n",
              "      <td>161</td>\n",
              "      <td>121</td>\n",
              "      <td>111</td>\n",
              "      <td>164</td>\n",
              "      <td>120</td>\n",
              "      <td>110</td>\n",
              "      <td>154</td>\n",
              "      <td>122</td>\n",
              "      <td>115</td>\n",
              "      <td>138</td>\n",
              "      <td>123</td>\n",
              "      <td>121</td>\n",
              "      <td>1</td>\n",
              "    </tr>\n",
              "    <tr>\n",
              "      <th>253</th>\n",
              "      <td>135</td>\n",
              "      <td>124</td>\n",
              "      <td>122</td>\n",
              "      <td>136</td>\n",
              "      <td>123</td>\n",
              "      <td>121</td>\n",
              "      <td>146</td>\n",
              "      <td>123</td>\n",
              "      <td>119</td>\n",
              "      <td>157</td>\n",
              "      <td>121</td>\n",
              "      <td>112</td>\n",
              "      <td>165</td>\n",
              "      <td>119</td>\n",
              "      <td>108</td>\n",
              "      <td>1</td>\n",
              "    </tr>\n",
              "    <tr>\n",
              "      <th>254</th>\n",
              "      <td>157</td>\n",
              "      <td>121</td>\n",
              "      <td>113</td>\n",
              "      <td>148</td>\n",
              "      <td>123</td>\n",
              "      <td>118</td>\n",
              "      <td>136</td>\n",
              "      <td>124</td>\n",
              "      <td>122</td>\n",
              "      <td>133</td>\n",
              "      <td>124</td>\n",
              "      <td>123</td>\n",
              "      <td>139</td>\n",
              "      <td>123</td>\n",
              "      <td>121</td>\n",
              "      <td>1</td>\n",
              "    </tr>\n",
              "  </tbody>\n",
              "</table>\n",
              "</div>"
            ],
            "text/plain": [
              "      x1   y1   z1   x2   y2   z2   x3  ...   x4   y4   z4   x5   y5   z5  clase\n",
              "250  133  126  122  134  124  122  141  ...  154  121  116  166  119  107      1\n",
              "251  160  121  112  147  123  117  136  ...  136  123  122  139  123  122      1\n",
              "252  149  121  116  161  121  111  164  ...  154  122  115  138  123  121      1\n",
              "253  135  124  122  136  123  121  146  ...  157  121  112  165  119  108      1\n",
              "254  157  121  113  148  123  118  136  ...  133  124  123  139  123  121      1\n",
              "\n",
              "[5 rows x 16 columns]"
            ]
          },
          "metadata": {
            "tags": []
          },
          "execution_count": 8
        }
      ]
    },
    {
      "cell_type": "code",
      "metadata": {
        "id": "z2gz1t4HFy4O",
        "colab_type": "code",
        "outputId": "526748c7-9aa3-4a3f-80c2-434a12e4011d",
        "colab": {
          "base_uri": "https://localhost:8080/",
          "height": 204
        }
      },
      "source": [
        "# Cinco muestras de la calse 2\n",
        "datos[550:555]"
      ],
      "execution_count": 0,
      "outputs": [
        {
          "output_type": "execute_result",
          "data": {
            "text/html": [
              "<div>\n",
              "<style scoped>\n",
              "    .dataframe tbody tr th:only-of-type {\n",
              "        vertical-align: middle;\n",
              "    }\n",
              "\n",
              "    .dataframe tbody tr th {\n",
              "        vertical-align: top;\n",
              "    }\n",
              "\n",
              "    .dataframe thead th {\n",
              "        text-align: right;\n",
              "    }\n",
              "</style>\n",
              "<table border=\"1\" class=\"dataframe\">\n",
              "  <thead>\n",
              "    <tr style=\"text-align: right;\">\n",
              "      <th></th>\n",
              "      <th>x1</th>\n",
              "      <th>y1</th>\n",
              "      <th>z1</th>\n",
              "      <th>x2</th>\n",
              "      <th>y2</th>\n",
              "      <th>z2</th>\n",
              "      <th>x3</th>\n",
              "      <th>y3</th>\n",
              "      <th>z3</th>\n",
              "      <th>x4</th>\n",
              "      <th>y4</th>\n",
              "      <th>z4</th>\n",
              "      <th>x5</th>\n",
              "      <th>y5</th>\n",
              "      <th>z5</th>\n",
              "      <th>clase</th>\n",
              "    </tr>\n",
              "  </thead>\n",
              "  <tbody>\n",
              "    <tr>\n",
              "      <th>550</th>\n",
              "      <td>151</td>\n",
              "      <td>129</td>\n",
              "      <td>101</td>\n",
              "      <td>141</td>\n",
              "      <td>125</td>\n",
              "      <td>119</td>\n",
              "      <td>113</td>\n",
              "      <td>122</td>\n",
              "      <td>126</td>\n",
              "      <td>118</td>\n",
              "      <td>126</td>\n",
              "      <td>126</td>\n",
              "      <td>121</td>\n",
              "      <td>123</td>\n",
              "      <td>124</td>\n",
              "      <td>2</td>\n",
              "    </tr>\n",
              "    <tr>\n",
              "      <th>551</th>\n",
              "      <td>149</td>\n",
              "      <td>126</td>\n",
              "      <td>110</td>\n",
              "      <td>160</td>\n",
              "      <td>125</td>\n",
              "      <td>93</td>\n",
              "      <td>164</td>\n",
              "      <td>122</td>\n",
              "      <td>82</td>\n",
              "      <td>162</td>\n",
              "      <td>123</td>\n",
              "      <td>88</td>\n",
              "      <td>153</td>\n",
              "      <td>124</td>\n",
              "      <td>98</td>\n",
              "      <td>2</td>\n",
              "    </tr>\n",
              "    <tr>\n",
              "      <th>552</th>\n",
              "      <td>144</td>\n",
              "      <td>126</td>\n",
              "      <td>114</td>\n",
              "      <td>115</td>\n",
              "      <td>124</td>\n",
              "      <td>125</td>\n",
              "      <td>119</td>\n",
              "      <td>124</td>\n",
              "      <td>127</td>\n",
              "      <td>120</td>\n",
              "      <td>123</td>\n",
              "      <td>125</td>\n",
              "      <td>139</td>\n",
              "      <td>127</td>\n",
              "      <td>111</td>\n",
              "      <td>2</td>\n",
              "    </tr>\n",
              "    <tr>\n",
              "      <th>553</th>\n",
              "      <td>158</td>\n",
              "      <td>130</td>\n",
              "      <td>91</td>\n",
              "      <td>162</td>\n",
              "      <td>130</td>\n",
              "      <td>77</td>\n",
              "      <td>158</td>\n",
              "      <td>128</td>\n",
              "      <td>83</td>\n",
              "      <td>149</td>\n",
              "      <td>129</td>\n",
              "      <td>95</td>\n",
              "      <td>145</td>\n",
              "      <td>127</td>\n",
              "      <td>109</td>\n",
              "      <td>2</td>\n",
              "    </tr>\n",
              "    <tr>\n",
              "      <th>554</th>\n",
              "      <td>117</td>\n",
              "      <td>122</td>\n",
              "      <td>126</td>\n",
              "      <td>117</td>\n",
              "      <td>124</td>\n",
              "      <td>126</td>\n",
              "      <td>121</td>\n",
              "      <td>125</td>\n",
              "      <td>124</td>\n",
              "      <td>141</td>\n",
              "      <td>128</td>\n",
              "      <td>110</td>\n",
              "      <td>154</td>\n",
              "      <td>127</td>\n",
              "      <td>89</td>\n",
              "      <td>2</td>\n",
              "    </tr>\n",
              "  </tbody>\n",
              "</table>\n",
              "</div>"
            ],
            "text/plain": [
              "      x1   y1   z1   x2   y2   z2   x3  ...   x4   y4   z4   x5   y5   z5  clase\n",
              "550  151  129  101  141  125  119  113  ...  118  126  126  121  123  124      2\n",
              "551  149  126  110  160  125   93  164  ...  162  123   88  153  124   98      2\n",
              "552  144  126  114  115  124  125  119  ...  120  123  125  139  127  111      2\n",
              "553  158  130   91  162  130   77  158  ...  149  129   95  145  127  109      2\n",
              "554  117  122  126  117  124  126  121  ...  141  128  110  154  127   89      2\n",
              "\n",
              "[5 rows x 16 columns]"
            ]
          },
          "metadata": {
            "tags": []
          },
          "execution_count": 9
        }
      ]
    },
    {
      "cell_type": "code",
      "metadata": {
        "id": "5Eb9v0mdfSJx",
        "colab_type": "code",
        "colab": {}
      },
      "source": [
        "# Las 15 primeras columnas son los características\n",
        "caracteristicas= datos.values[:,:15]\n",
        "# La última columna se coonvierte en los etiquetas\n",
        "etiquetas= datos.values[:,15]"
      ],
      "execution_count": 0,
      "outputs": []
    },
    {
      "cell_type": "code",
      "metadata": {
        "id": "r-MpjT3CfvUG",
        "colab_type": "code",
        "colab": {}
      },
      "source": [
        "# Normalizamos las carasterísticas. Las dividimos entre 255\n",
        "caracteristicas_norm= caracteristicas/255"
      ],
      "execution_count": 0,
      "outputs": []
    },
    {
      "cell_type": "code",
      "metadata": {
        "id": "LS48VALYgdWI",
        "colab_type": "code",
        "colab": {}
      },
      "source": [
        "# Codificación en One hot\n",
        "etiquetas__hot = to_categorical(etiquetas)"
      ],
      "execution_count": 0,
      "outputs": []
    },
    {
      "cell_type": "code",
      "metadata": {
        "id": "WgPlm-wbAZIg",
        "colab_type": "code",
        "outputId": "b65d9806-4a52-4bf9-cd91-aaf4eceb0cce",
        "colab": {
          "base_uri": "https://localhost:8080/",
          "height": 34
        }
      },
      "source": [
        "caracteristicas.shape"
      ],
      "execution_count": 0,
      "outputs": [
        {
          "output_type": "execute_result",
          "data": {
            "text/plain": [
              "(587, 15)"
            ]
          },
          "metadata": {
            "tags": []
          },
          "execution_count": 13
        }
      ]
    },
    {
      "cell_type": "code",
      "metadata": {
        "id": "X9or3gMZg0Rv",
        "colab_type": "code",
        "colab": {}
      },
      "source": [
        "# Dividimos los datos en estrenamiento y evaluación\n",
        "X_train, X_test, y_train, y_test = train_test_split(caracteristicas_norm, etiquetas__hot, test_size=0.2, random_state=21)"
      ],
      "execution_count": 0,
      "outputs": []
    },
    {
      "cell_type": "code",
      "metadata": {
        "id": "jNq633X_heOb",
        "colab_type": "code",
        "colab": {}
      },
      "source": [
        "# El modelo\n",
        "model= tf.keras.Sequential()\n",
        "\n",
        "model.add(layers.Dense(16, activation='relu', input_dim=15))\n",
        "model.add(layers.Dense(16, activation='relu'))\n",
        "model.add(layers.Dense(3, activation='sigmoid'))\n",
        "\n",
        "# Configulación del entrenamiento\n",
        "model.compile(loss='categorical_crossentropy', optimizer='adam', metrics=['accuracy'])"
      ],
      "execution_count": 0,
      "outputs": []
    },
    {
      "cell_type": "code",
      "metadata": {
        "id": "SpPwMuyUjJQd",
        "colab_type": "code",
        "colab": {}
      },
      "source": [
        "model.summary()"
      ],
      "execution_count": 0,
      "outputs": []
    },
    {
      "cell_type": "code",
      "metadata": {
        "id": "E1pwzJwijf-7",
        "colab_type": "code",
        "colab": {}
      },
      "source": [
        "# El entrenamiento\n",
        "model.fit(X_train, y_train, epochs=300, batch_size=5)"
      ],
      "execution_count": 0,
      "outputs": []
    },
    {
      "cell_type": "code",
      "metadata": {
        "id": "018kU50Uk17c",
        "colab_type": "code",
        "colab": {}
      },
      "source": [
        "# La evaluación\n",
        "score = model.evaluate(X_test, y_test)\n",
        "print(\"\\n%s: %.2f%%\" % (model.metrics_names[1], score[1]*100))"
      ],
      "execution_count": 0,
      "outputs": []
    },
    {
      "cell_type": "code",
      "metadata": {
        "id": "7hE7yE_re-ZQ",
        "colab_type": "code",
        "colab": {}
      },
      "source": [
        "# aquí termina el 1er tutorial"
      ],
      "execution_count": 0,
      "outputs": []
    }
  ]
}
